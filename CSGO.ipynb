{
 "cells": [
  {
   "cell_type": "markdown",
   "metadata": {},
   "source": [
    "# Scraping and Plotting Basics"
   ]
  },
  {
   "cell_type": "markdown",
   "metadata": {},
   "source": [
    "### The following topics are covered in this notebook:\n",
    "- Requesting a webpage\n",
    "- Parsing the webpage using BeautifulSoup\n",
    "- Extracting table data from the parsed webpage\n",
    "- Using the seaborn library to plot data"
   ]
  },
  {
   "cell_type": "code",
   "execution_count": 2,
   "metadata": {
    "collapsed": true
   },
   "outputs": [],
   "source": [
    "from urllib.request import Request, urlopen\n",
    "from bs4 import BeautifulSoup as bs\n",
    "import pandas as pd"
   ]
  },
  {
   "cell_type": "code",
   "execution_count": 3,
   "metadata": {
    "collapsed": true
   },
   "outputs": [],
   "source": [
    "## Required methods for scraping. This section can be converted into a function and reused.\n",
    "## We request the url and open the webpage to be read\n",
    "url = \"https://www.hltv.org/stats/players/\"\n",
    "req = Request(url, headers={'User-Agent': 'Mozilla/5.0'})\n",
    "webpage = urlopen(req).read()"
   ]
  },
  {
   "cell_type": "code",
   "execution_count": 4,
   "metadata": {
    "collapsed": true
   },
   "outputs": [],
   "source": [
    "## This is where the actual parsing takes place. The html.parser is Python's own html.parser and can be replaced with\n",
    "## faster parsers like lxml's HTML parser/XML , which are external C dependencies.\n",
    "soup = bs(webpage,'html.parser')"
   ]
  },
  {
   "cell_type": "code",
   "execution_count": 5,
   "metadata": {},
   "outputs": [
    {
     "name": "stdout",
     "output_type": "stream",
     "text": [
      "CS:GO Player statistics database | HLTV.org\n"
     ]
    }
   ],
   "source": [
    "print(soup.title.text)"
   ]
  },
  {
   "cell_type": "code",
   "execution_count": 6,
   "metadata": {},
   "outputs": [
    {
     "name": "stdout",
     "output_type": "stream",
     "text": [
      "     Player            Team Maps KDRatio Rating\n",
      "1     BnTeT           TyLoo  215   +1683   1.36\n",
      "2  XANTARES  Space Soldiers  491   +2357   1.25\n",
      "3      kaze                  217   +1125   1.22\n",
      "4  coldzera              SK  563   +3027   1.22\n",
      "5     kNgV-       Immortals  191    +926   1.21\n"
     ]
    }
   ],
   "source": [
    "## We need the information inside the tags 'tr', ie the rows.\n",
    "## So let us find the rows in the table, and convert the whole table into a list, \n",
    "## which in turn we will convert into a pandas DataFrame for further manipulation.\n",
    "## Finding all tags <x> can be accomplished via the soup.findAll('x') method.\n",
    "## This section contains some code which cleans up the \n",
    "\n",
    "data = []\n",
    "record = []\n",
    "for row in soup.findAll('tr'):\n",
    "    st = row.text[1:]\n",
    "    record = st.split('\\n')\n",
    "    data.append(record[0:len(st)-2])\n",
    "\n",
    "data = pd.DataFrame(data)\n",
    "data.drop([6,4],axis = 1,inplace = True)\n",
    "data.drop(0,axis = 0,inplace = True)\n",
    "data.rename(columns = {0:'Player', 1:'Team', 2:'Maps', 3:'KDRatio',5:'Rating'},inplace = True)\n",
    "print(data.head())"
   ]
  },
  {
   "cell_type": "code",
   "execution_count": 7,
   "metadata": {},
   "outputs": [
    {
     "data": {
      "text/plain": [
       "Player     object\n",
       "Team       object\n",
       "Maps       object\n",
       "KDRatio    object\n",
       "Rating     object\n",
       "dtype: object"
      ]
     },
     "execution_count": 7,
     "metadata": {},
     "output_type": "execute_result"
    }
   ],
   "source": [
    "## Let us now see the datatypes\n",
    "data.dtypes"
   ]
  },
  {
   "cell_type": "code",
   "execution_count": 8,
   "metadata": {},
   "outputs": [
    {
     "data": {
      "text/plain": [
       "Player      object\n",
       "Team        object\n",
       "Maps         int64\n",
       "KDRatio      int64\n",
       "Rating     float64\n",
       "dtype: object"
      ]
     },
     "execution_count": 8,
     "metadata": {},
     "output_type": "execute_result"
    }
   ],
   "source": [
    "## Changing the datatypes of entire columns\n",
    "data[['Maps','KDRatio','Rating']] = data[['Maps','KDRatio','Rating']].apply(pd.to_numeric)\n",
    "data.dtypes"
   ]
  },
  {
   "cell_type": "code",
   "execution_count": 9,
   "metadata": {},
   "outputs": [],
   "source": [
    "## Saving this dataframe to a csv\n",
    "data.to_csv(\"CSGO.csv\", sep=',', encoding='utf-8')"
   ]
  },
  {
   "cell_type": "code",
   "execution_count": 10,
   "metadata": {},
   "outputs": [
    {
     "name": "stdout",
     "output_type": "stream",
     "text": [
      "              Maps      KDRatio      Rating\n",
      "count   412.000000   412.000000  412.000000\n",
      "mean    440.354369   373.594660    1.019078\n",
      "std     256.849186   924.322127    0.080319\n",
      "min     187.000000 -2869.000000    0.750000\n",
      "25%     238.750000  -165.250000    0.970000\n",
      "50%     350.000000   207.500000    1.020000\n",
      "75%     562.250000   781.000000    1.070000\n",
      "max    1249.000000  4890.000000    1.360000\n"
     ]
    }
   ],
   "source": [
    "## Let us create some benchmarks\n",
    "stats = data.describe()\n",
    "print(stats)\n",
    "mean_kdr = stats['KDRatio']['mean']\n",
    "mean_maps = stats['Maps']['mean']\n",
    "mean_rating = stats['Rating']['mean']"
   ]
  },
  {
   "cell_type": "code",
   "execution_count": 11,
   "metadata": {
    "collapsed": true
   },
   "outputs": [],
   "source": [
    "## Now we would like to filter teams based on the three columns\n",
    "## For that lets first divide the dataset by teams\n",
    "KD_stats = data.groupby('Team').KDRatio.agg(['min','max','mean'])\n",
    "Maps_stats = data.groupby('Team').Maps.agg(['min','max','mean'])\n",
    "Rating_stats = data.groupby('Team').Rating.agg(['min','max','mean'])"
   ]
  },
  {
   "cell_type": "code",
   "execution_count": 12,
   "metadata": {},
   "outputs": [
    {
     "data": {
      "text/html": [
       "<div>\n",
       "<style>\n",
       "    .dataframe thead tr:only-child th {\n",
       "        text-align: right;\n",
       "    }\n",
       "\n",
       "    .dataframe thead th {\n",
       "        text-align: left;\n",
       "    }\n",
       "\n",
       "    .dataframe tbody tr th {\n",
       "        vertical-align: top;\n",
       "    }\n",
       "</style>\n",
       "<table border=\"1\" class=\"dataframe\">\n",
       "  <thead>\n",
       "    <tr style=\"text-align: right;\">\n",
       "      <th></th>\n",
       "      <th>Team</th>\n",
       "      <th>min</th>\n",
       "      <th>max</th>\n",
       "      <th>mean</th>\n",
       "    </tr>\n",
       "  </thead>\n",
       "  <tbody>\n",
       "    <tr>\n",
       "      <th>0</th>\n",
       "      <td>NiP</td>\n",
       "      <td>869</td>\n",
       "      <td>4890</td>\n",
       "      <td>2583.0</td>\n",
       "    </tr>\n",
       "    <tr>\n",
       "      <th>1</th>\n",
       "      <td>G2</td>\n",
       "      <td>100</td>\n",
       "      <td>4557</td>\n",
       "      <td>2140.2</td>\n",
       "    </tr>\n",
       "    <tr>\n",
       "      <th>2</th>\n",
       "      <td>fnatic</td>\n",
       "      <td>877</td>\n",
       "      <td>2893</td>\n",
       "      <td>2118.2</td>\n",
       "    </tr>\n",
       "    <tr>\n",
       "      <th>3</th>\n",
       "      <td>Astralis</td>\n",
       "      <td>453</td>\n",
       "      <td>3730</td>\n",
       "      <td>1957.6</td>\n",
       "    </tr>\n",
       "    <tr>\n",
       "      <th>4</th>\n",
       "      <td>Natus Vincere</td>\n",
       "      <td>698</td>\n",
       "      <td>3502</td>\n",
       "      <td>1735.0</td>\n",
       "    </tr>\n",
       "  </tbody>\n",
       "</table>\n",
       "</div>"
      ],
      "text/plain": [
       "            Team  min   max    mean\n",
       "0            NiP  869  4890  2583.0\n",
       "1             G2  100  4557  2140.2\n",
       "2         fnatic  877  2893  2118.2\n",
       "3       Astralis  453  3730  1957.6\n",
       "4  Natus Vincere  698  3502  1735.0"
      ]
     },
     "execution_count": 12,
     "metadata": {},
     "output_type": "execute_result"
    }
   ],
   "source": [
    "## Sorting the team based dataframes and finding the top 10 in each category\n",
    "top_teams_kd = pd.DataFrame(KD_stats.sort_values(['mean'],ascending = False).head(15))\n",
    "top_teams_kd = top_teams_kd.reset_index()\n",
    "top_teams_kd.head()"
   ]
  },
  {
   "cell_type": "code",
   "execution_count": 13,
   "metadata": {},
   "outputs": [
    {
     "data": {
      "text/html": [
       "<div>\n",
       "<style>\n",
       "    .dataframe thead tr:only-child th {\n",
       "        text-align: right;\n",
       "    }\n",
       "\n",
       "    .dataframe thead th {\n",
       "        text-align: left;\n",
       "    }\n",
       "\n",
       "    .dataframe tbody tr th {\n",
       "        vertical-align: top;\n",
       "    }\n",
       "</style>\n",
       "<table border=\"1\" class=\"dataframe\">\n",
       "  <thead>\n",
       "    <tr style=\"text-align: right;\">\n",
       "      <th></th>\n",
       "      <th>Team</th>\n",
       "      <th>min</th>\n",
       "      <th>max</th>\n",
       "      <th>mean</th>\n",
       "    </tr>\n",
       "  </thead>\n",
       "  <tbody>\n",
       "    <tr>\n",
       "      <th>0</th>\n",
       "      <td>TyLoo</td>\n",
       "      <td>1.06</td>\n",
       "      <td>1.36</td>\n",
       "      <td>1.154000</td>\n",
       "    </tr>\n",
       "    <tr>\n",
       "      <th>1</th>\n",
       "      <td>LGD</td>\n",
       "      <td>1.14</td>\n",
       "      <td>1.14</td>\n",
       "      <td>1.140000</td>\n",
       "    </tr>\n",
       "    <tr>\n",
       "      <th>2</th>\n",
       "      <td>Flash</td>\n",
       "      <td>1.11</td>\n",
       "      <td>1.15</td>\n",
       "      <td>1.126667</td>\n",
       "    </tr>\n",
       "    <tr>\n",
       "      <th>3</th>\n",
       "      <td>MaxAndRelax</td>\n",
       "      <td>1.11</td>\n",
       "      <td>1.11</td>\n",
       "      <td>1.110000</td>\n",
       "    </tr>\n",
       "    <tr>\n",
       "      <th>4</th>\n",
       "      <td>NiP</td>\n",
       "      <td>1.04</td>\n",
       "      <td>1.17</td>\n",
       "      <td>1.106000</td>\n",
       "    </tr>\n",
       "  </tbody>\n",
       "</table>\n",
       "</div>"
      ],
      "text/plain": [
       "          Team   min   max      mean\n",
       "0        TyLoo  1.06  1.36  1.154000\n",
       "1          LGD  1.14  1.14  1.140000\n",
       "2        Flash  1.11  1.15  1.126667\n",
       "3  MaxAndRelax  1.11  1.11  1.110000\n",
       "4          NiP  1.04  1.17  1.106000"
      ]
     },
     "execution_count": 13,
     "metadata": {},
     "output_type": "execute_result"
    }
   ],
   "source": [
    "top_teams_rating = pd.DataFrame(Rating_stats.sort_values(['mean'],ascending = False).head(15))\n",
    "top_teams_rating = top_teams_rating.reset_index()\n",
    "top_teams_rating.head()"
   ]
  },
  {
   "cell_type": "code",
   "execution_count": 14,
   "metadata": {},
   "outputs": [
    {
     "data": {
      "text/html": [
       "<div>\n",
       "<style>\n",
       "    .dataframe thead tr:only-child th {\n",
       "        text-align: right;\n",
       "    }\n",
       "\n",
       "    .dataframe thead th {\n",
       "        text-align: left;\n",
       "    }\n",
       "\n",
       "    .dataframe tbody tr th {\n",
       "        vertical-align: top;\n",
       "    }\n",
       "</style>\n",
       "<table border=\"1\" class=\"dataframe\">\n",
       "  <thead>\n",
       "    <tr style=\"text-align: right;\">\n",
       "      <th></th>\n",
       "      <th>Team</th>\n",
       "      <th>min</th>\n",
       "      <th>max</th>\n",
       "      <th>mean</th>\n",
       "    </tr>\n",
       "  </thead>\n",
       "  <tbody>\n",
       "    <tr>\n",
       "      <th>0</th>\n",
       "      <td>Virtus.pro</td>\n",
       "      <td>1063</td>\n",
       "      <td>1249</td>\n",
       "      <td>1167.0</td>\n",
       "    </tr>\n",
       "    <tr>\n",
       "      <th>1</th>\n",
       "      <td>G2</td>\n",
       "      <td>424</td>\n",
       "      <td>1187</td>\n",
       "      <td>966.0</td>\n",
       "    </tr>\n",
       "    <tr>\n",
       "      <th>2</th>\n",
       "      <td>fnatic</td>\n",
       "      <td>629</td>\n",
       "      <td>1117</td>\n",
       "      <td>928.6</td>\n",
       "    </tr>\n",
       "    <tr>\n",
       "      <th>3</th>\n",
       "      <td>Astralis</td>\n",
       "      <td>749</td>\n",
       "      <td>1083</td>\n",
       "      <td>914.8</td>\n",
       "    </tr>\n",
       "    <tr>\n",
       "      <th>4</th>\n",
       "      <td>NiP</td>\n",
       "      <td>394</td>\n",
       "      <td>1158</td>\n",
       "      <td>855.6</td>\n",
       "    </tr>\n",
       "  </tbody>\n",
       "</table>\n",
       "</div>"
      ],
      "text/plain": [
       "         Team   min   max    mean\n",
       "0  Virtus.pro  1063  1249  1167.0\n",
       "1          G2   424  1187   966.0\n",
       "2      fnatic   629  1117   928.6\n",
       "3    Astralis   749  1083   914.8\n",
       "4         NiP   394  1158   855.6"
      ]
     },
     "execution_count": 14,
     "metadata": {},
     "output_type": "execute_result"
    }
   ],
   "source": [
    "top_teams_map = pd.DataFrame(Maps_stats.sort_values(['mean'],ascending = False).head(15))\n",
    "top_teams_map = top_teams_map.reset_index()\n",
    "top_teams_map.head()"
   ]
  },
  {
   "cell_type": "code",
   "execution_count": 15,
   "metadata": {
    "collapsed": true
   },
   "outputs": [],
   "source": [
    "## Importing the seaborn library\n",
    "import matplotlib.pyplot as plt\n",
    "import seaborn as sns\n",
    "%matplotlib inline"
   ]
  },
  {
   "cell_type": "code",
   "execution_count": 16,
   "metadata": {},
   "outputs": [
    {
     "data": {
      "image/png": "[encoded data removed]",
      "text/plain": [
       "<matplotlib.figure.Figure at 0x4adee90>"
      ]
     },
     "metadata": {},
     "output_type": "display_data"
    }
   ],
   "source": [
    "## This line sets the figure size\n",
    "plt.rcParams['figure.figsize']=(15,10)\n",
    "\n",
    "## This line plots the data. Here we are using the barplot() of seaborn.\n",
    "## Normal arguments are x = column to be used for x-axis, same for y, and data = dataframe to be used\n",
    "ax = sns.barplot(x = 'Team', y = 'mean',data = top_teams_kd)\n",
    "\n",
    "## Setting the y-label\n",
    "plt.ylabel(\"Mean K/D ratio of current players\")\n",
    "\n",
    "plt.show()"
   ]
  },
  {
   "cell_type": "code",
   "execution_count": 17,
   "metadata": {},
   "outputs": [
    {
     "data": {
      "image/png": "[encoded data removed]",
      "text/plain": [
       "<matplotlib.figure.Figure at 0x92ad130>"
      ]
     },
     "metadata": {},
     "output_type": "display_data"
    }
   ],
   "source": [
    "ax = sns.barplot(x = 'Team', y = 'mean',data = top_teams_rating)\n",
    "\n",
    "## Setting the y-label\n",
    "plt.ylabel(\"Mean Rating of current players\")\n",
    "\n",
    "plt.show()"
   ]
  },
  {
   "cell_type": "code",
   "execution_count": 18,
   "metadata": {},
   "outputs": [
    {
     "data": {
      "image/png": "[encoded data removed]",
      "text/plain": [
       "<matplotlib.figure.Figure at 0x95c0ad0>"
      ]
     },
     "metadata": {},
     "output_type": "display_data"
    }
   ],
   "source": [
    "ax = sns.barplot(x = 'Team', y = 'mean',data = top_teams_map)\n",
    "\n",
    "## Setting the y-label\n",
    "plt.ylabel(\"Mean maps played of current players\")\n",
    "\n",
    "plt.show()"
   ]
  },
  {
   "cell_type": "code",
   "execution_count": null,
   "metadata": {
    "collapsed": true
   },
   "outputs": [],
   "source": []
  }
 ],
 "metadata": {
  "kernelspec": {
   "display_name": "Python 3",
   "language": "python",
   "name": "python3"
  },
  "language_info": {
   "codemirror_mode": {
    "name": "ipython",
    "version": 3
   },
   "file_extension": ".py",
   "mimetype": "text/x-python",
   "name": "python",
   "nbconvert_exporter": "python",
   "pygments_lexer": "ipython3",
   "version": "3.6.1"
  }
 },
 "nbformat": 4,
 "nbformat_minor": 2
}
